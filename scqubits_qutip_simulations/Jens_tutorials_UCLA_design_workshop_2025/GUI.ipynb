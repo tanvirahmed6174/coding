{
 "cells": [
  {
   "cell_type": "code",
   "execution_count": 1,
   "id": "3f4b2214-20d1-45c7-bd44-9a88e6f59d04",
   "metadata": {},
   "outputs": [],
   "source": [
    "import scqubits as scq"
   ]
  },
  {
   "cell_type": "code",
   "execution_count": 2,
   "id": "3e923166-2b59-4ebd-9458-5a4b9eb7b485",
   "metadata": {},
   "outputs": [
    {
     "data": {
      "application/vnd.jupyter.widget-view+json": {
       "model_id": "afbfef098a494d1ea217160a38e23572",
       "version_major": 2,
       "version_minor": 0
      },
      "text/plain": [
       "Container(children=[Sheet(children=[Card(children=[Img(layout=None, src='data:image/png;base64,iVBORw0KGgoAAAA…"
      ]
     },
     "metadata": {},
     "output_type": "display_data"
    },
    {
     "data": {
      "text/plain": []
     },
     "execution_count": 2,
     "metadata": {},
     "output_type": "execute_result"
    }
   ],
   "source": [
    "scq.GUI()"
   ]
  }
 ],
 "metadata": {
  "kernelspec": {
   "display_name": "Python 3 (ipykernel)",
   "language": "python",
   "name": "python3"
  },
  "language_info": {
   "codemirror_mode": {
    "name": "ipython",
    "version": 3
   },
   "file_extension": ".py",
   "mimetype": "text/x-python",
   "name": "python",
   "nbconvert_exporter": "python",
   "pygments_lexer": "ipython3",
   "version": "3.11.11"
  }
 },
 "nbformat": 4,
 "nbformat_minor": 5
}
