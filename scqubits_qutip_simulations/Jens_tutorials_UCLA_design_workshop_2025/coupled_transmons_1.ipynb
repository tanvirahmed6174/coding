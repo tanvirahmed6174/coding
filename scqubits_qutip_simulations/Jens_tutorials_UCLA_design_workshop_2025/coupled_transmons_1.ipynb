{
 "cells": [
  {
   "cell_type": "code",
   "execution_count": 1,
   "id": "fa05d9fb-fae2-4786-a9c4-bad2b3c369a3",
   "metadata": {},
   "outputs": [],
   "source": [
    "import scqubits as scq"
   ]
  },
  {
   "cell_type": "markdown",
   "id": "a9839e4c-db23-42b7-962c-0b2540c1eed2",
   "metadata": {},
   "source": [
    "# Two transmons capacitively coupled to CPW resonator"
   ]
  },
  {
   "cell_type": "code",
   "execution_count": 2,
   "id": "b2edfa4e-063c-499b-9560-0cb29acb0f5a",
   "metadata": {},
   "outputs": [
    {
     "data": {
      "application/vnd.jupyter.widget-view+json": {
       "model_id": "c54a1882f6ff403fad72d75f969af433",
       "version_major": 2,
       "version_minor": 0
      },
      "text/plain": [
       "Row(children=[Row(children=[ValidatedNumberField(class_='ml-2 py-0', dense=True, error=False, filled=True, lab…"
      ]
     },
     "metadata": {},
     "output_type": "display_data"
    }
   ],
   "source": [
    "tmon1 = scq.TunableTransmon.create()"
   ]
  },
  {
   "cell_type": "code",
   "execution_count": 3,
   "id": "9c62abac-ae2f-4a01-970a-2184e08078d7",
   "metadata": {},
   "outputs": [
    {
     "data": {
      "application/vnd.jupyter.widget-view+json": {
       "model_id": "09b7c59dec4b4b24a71d550a1590f6b0",
       "version_major": 2,
       "version_minor": 0
      },
      "text/plain": [
       "Row(children=[Row(children=[ValidatedNumberField(class_='ml-2 py-0', dense=True, error=False, filled=True, lab…"
      ]
     },
     "metadata": {},
     "output_type": "display_data"
    }
   ],
   "source": [
    "tmon2 = scq.TunableTransmon.create()"
   ]
  },
  {
   "cell_type": "code",
   "execution_count": 4,
   "id": "201f4e9b-29da-4c79-8781-2a5fd4803493",
   "metadata": {},
   "outputs": [
    {
     "data": {
      "application/vnd.jupyter.widget-view+json": {
       "model_id": "5488208bf92c488c908e1f9509419dcc",
       "version_major": 2,
       "version_minor": 0
      },
      "text/plain": [
       "Row(children=[Row(children=[ValidatedNumberField(class_='ml-2 py-0', dense=True, error=False, filled=True, lab…"
      ]
     },
     "metadata": {},
     "output_type": "display_data"
    }
   ],
   "source": [
    "res = scq.Oscillator.create()"
   ]
  },
  {
   "cell_type": "code",
   "execution_count": 5,
   "id": "10c52b38-1127-4f94-a9c6-f0c7192052f7",
   "metadata": {},
   "outputs": [
    {
     "data": {
      "application/vnd.jupyter.widget-view+json": {
       "model_id": "9945d244e2074309877f8d23ff5670b1",
       "version_major": 2,
       "version_minor": 0
      },
      "text/plain": [
       "Container(children=[Card(children=[CardTitle(children=['Create Hilbert Space'], layout=None), Container(childr…"
      ]
     },
     "metadata": {},
     "output_type": "display_data"
    }
   ],
   "source": [
    "hs = scq.HilbertSpace.create()"
   ]
  },
  {
   "cell_type": "markdown",
   "id": "a550046a-8f1f-46ce-9372-e036b984e1b8",
   "metadata": {},
   "source": [
    "## Set up a parameter sweep over flux and offset charge of transmon 1 as well as resonator frequency"
   ]
  },
  {
   "cell_type": "code",
   "execution_count": 6,
   "id": "19fa13e5-ec3d-4ab7-b285-f36dbb2b8030",
   "metadata": {},
   "outputs": [],
   "source": [
    "import numpy as np\n",
    "\n",
    "\n",
    "# set up scan parameter names and values\n",
    "flux_param = \"flux1\"\n",
    "flux_vals = np.linspace(0, 0.5, 50)\n",
    "\n",
    "ng_param = \"ng1\"\n",
    "ng_vals = np.linspace(0, 0.5, 30)\n",
    "\n",
    "res_param = \"res_freq\"\n",
    "res_vals = np.linspace(5, 9, 5)\n",
    "\n",
    "params_dict = {\n",
    "    flux_param: flux_vals, \n",
    "    ng_param: ng_vals,\n",
    "    res_param: res_vals\n",
    "}\n",
    "\n",
    "# specify how parameters affect the system\n",
    "def update_hilbertspace(flux, ng, freq):\n",
    "    tmon1.flux = flux\n",
    "    tmon1.ng = ng\n",
    "    res.E_osc = freq"
   ]
  },
  {
   "cell_type": "markdown",
   "id": "0c4b807f-6566-45b5-9a2c-34ed47f395c2",
   "metadata": {},
   "source": [
    "For faster calculation: let scqubits know which subsystems are affected when parameters are changed.\n",
    "(This avoids unnecessary re-calculation of bare-system data that actually remains unchanged."
   ]
  },
  {
   "cell_type": "code",
   "execution_count": 7,
   "id": "ed855ae6-541c-4f0d-b7bc-b6d85c6c14a7",
   "metadata": {},
   "outputs": [],
   "source": [
    "subsys_update_info = {\n",
    "    flux_param: [tmon1],\n",
    "    ng_param: [tmon1],\n",
    "    res_param: [res]\n",
    "}"
   ]
  },
  {
   "cell_type": "code",
   "execution_count": 8,
   "id": "5a6c0923-dc83-42b7-bdcb-5e54d001286c",
   "metadata": {},
   "outputs": [
    {
     "data": {
      "application/vnd.jupyter.widget-view+json": {
       "model_id": "4aa971a119d54a7ebe4ff5b1e85ca088",
       "version_major": 2,
       "version_minor": 0
      },
      "text/plain": [
       "Parallel compute bare eigensys for subsystem TunableTransmon_1 [num_cpus=4]"
      ]
     },
     "metadata": {},
     "output_type": "display_data"
    },
    {
     "data": {
      "application/vnd.jupyter.widget-view+json": {
       "model_id": "0708cc2f877645a6991fe5a3bd604db8",
       "version_major": 2,
       "version_minor": 0
      },
      "text/plain": [
       "Parallel compute bare eigensys for subsystem TunableTransmon_2 [num_cpus=4]"
      ]
     },
     "metadata": {},
     "output_type": "display_data"
    },
    {
     "data": {
      "application/vnd.jupyter.widget-view+json": {
       "model_id": "6b9eefea49bc44e78b65e8330071124d",
       "version_major": 2,
       "version_minor": 0
      },
      "text/plain": [
       "Parallel compute bare eigensys for subsystem Oscillator_1 [num_cpus=4]"
      ]
     },
     "metadata": {},
     "output_type": "display_data"
    },
    {
     "data": {
      "application/vnd.jupyter.widget-view+json": {
       "model_id": "353f62fdf6814950b72d728ed65f6e87",
       "version_major": 2,
       "version_minor": 0
      },
      "text/plain": [
       "Parallel compute dressed eigensys [num_cpus=4]"
      ]
     },
     "metadata": {},
     "output_type": "display_data"
    }
   ],
   "source": [
    "sweep = scq.ParameterSweep(\n",
    "    hilbertspace=hs,\n",
    "    paramvals_by_name=params_dict,\n",
    "    update_hilbertspace=update_hilbertspace,\n",
    "    evals_count=12,\n",
    "    subsys_update_info=subsys_update_info,\n",
    "    num_cpus=4,\n",
    ")"
   ]
  },
  {
   "cell_type": "code",
   "execution_count": 9,
   "id": "7a193b90-183e-42a8-9fe2-27e070d7264f",
   "metadata": {},
   "outputs": [
    {
     "data": {
      "application/vnd.jupyter.widget-view+json": {
       "model_id": "88320d328b664b47a06ca58b48821db0",
       "version_major": 2,
       "version_minor": 0
      },
      "text/plain": [
       "Container(children=[Sheet(children=[Card(children=[Img(layout=None, src='data:image/png;base64,iVBORw0KGgoAAAA…"
      ]
     },
     "metadata": {},
     "output_type": "display_data"
    }
   ],
   "source": [
    "explorer = scq.Explorer(sweep)"
   ]
  },
  {
   "cell_type": "code",
   "execution_count": null,
   "id": "410515a8-69b3-4118-9416-db316a4fe0eb",
   "metadata": {},
   "outputs": [],
   "source": []
  },
  {
   "cell_type": "code",
   "execution_count": null,
   "id": "34157d57-7393-4589-bf12-421b5d9c9101",
   "metadata": {},
   "outputs": [],
   "source": []
  }
 ],
 "metadata": {
  "kernelspec": {
   "display_name": "scqubits_copy",
   "language": "python",
   "name": "python3"
  },
  "language_info": {
   "codemirror_mode": {
    "name": "ipython",
    "version": 3
   },
   "file_extension": ".py",
   "mimetype": "text/x-python",
   "name": "python",
   "nbconvert_exporter": "python",
   "pygments_lexer": "ipython3",
   "version": "3.12.11"
  }
 },
 "nbformat": 4,
 "nbformat_minor": 5
}
