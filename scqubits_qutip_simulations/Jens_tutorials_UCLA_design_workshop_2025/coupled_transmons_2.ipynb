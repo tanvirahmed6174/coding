{
 "cells": [
  {
   "cell_type": "code",
   "execution_count": 14,
   "id": "fa05d9fb-fae2-4786-a9c4-bad2b3c369a3",
   "metadata": {},
   "outputs": [],
   "source": [
    "import scqubits as scq\n",
    "import numpy as np"
   ]
  },
  {
   "cell_type": "markdown",
   "id": "a9839e4c-db23-42b7-962c-0b2540c1eed2",
   "metadata": {},
   "source": [
    "# Two transmons capacitively coupled to CPW resonator"
   ]
  },
  {
   "cell_type": "markdown",
   "id": "9ece6d02-b980-443d-bb4d-c4c5170af9c8",
   "metadata": {},
   "source": [
    "<img src=\"transmons.jpg\" width=400 />"
   ]
  },
  {
   "cell_type": "code",
   "execution_count": 15,
   "id": "b2edfa4e-063c-499b-9560-0cb29acb0f5a",
   "metadata": {},
   "outputs": [],
   "source": [
    "EJ11 = 10.\n",
    "EJ12 = 11. \n",
    "\n",
    "EJ21 = 8.5\n",
    "EJ22 = 8.7\n",
    "\n",
    "ECJ1  = 0.3\n",
    "ECJ2  = 0.2\n",
    "\n",
    "ECC = 1.0\n",
    "\n",
    "#Create an instance of the circuit with the given parameters\n",
    "circuit_yaml = f\"\"\"branches:\n",
    "                   - [JJ, 0,1, EJ11={EJ11}, ECJ11={ECJ1/2}],\n",
    "                   - [JJ, 0,1, EJ12={EJ12}, ECJ12={ECJ1/2}],\n",
    "                   - [L,  0,3, 6.25nH],\n",
    "                   - [C,  0,3, 2.5pF],\n",
    "                   - [JJ, 0,2, EJ21={EJ21}, ECJ21={ECJ2/2}],\n",
    "                   - [JJ, 0,2, EJ22={EJ22}, ECJ22={ECJ2/2}],\n",
    "                   - [C,  1,3, 0.1pF],\n",
    "                   - [C,  3,2, 0.1pF]\n",
    "                 \"\"\""
   ]
  },
  {
   "cell_type": "code",
   "execution_count": 16,
   "id": "9c62abac-ae2f-4a01-970a-2184e08078d7",
   "metadata": {},
   "outputs": [],
   "source": [
    "circ = scq.Circuit(circuit_yaml, from_file=False)"
   ]
  },
  {
   "cell_type": "code",
   "execution_count": 17,
   "id": "db200aa4-e5fb-41c8-83c8-2e07b987821f",
   "metadata": {},
   "outputs": [],
   "source": [
    "circ.configure(\n",
    "    # perform no variable transformation\n",
    "    transformation_matrix=np.eye(3),\n",
    "    # specify hierarchical diagonalization: treat each node as a subsystem\n",
    "    system_hierarchy=[[1], [2], [3]],\n",
    "    # truncation of for each subsystem\n",
    "    subsystem_trunc_dims=[4, 4, 4],\n",
    ")"
   ]
  },
  {
   "cell_type": "code",
   "execution_count": 18,
   "id": "522640ff-b297-4cdc-b9e3-4b358167ec8f",
   "metadata": {},
   "outputs": [
    {
     "data": {
      "text/latex": [
       "$H=\\left(0.029221 Q_{3}^{2} + 0.160196 n_{2}^{2} + 0.160196 n_{g2}^{2} + 0.218541 n_{1}^{2} + 0.218541 n_{g1}^{2} + 0.003347 n_{1} n_{2} + 0.003347 n_{1} n_{g2} + 0.003347 n_{2} n_{g1} + 0.003347 n_{g1} n_{g2} + 0.016312 Q_{3} n_{1} + 0.016312 Q_{3} n_{g1} + 0.01199 Q_{3} n_{2} + 0.01199 Q_{3} n_{g2} + 0.437081 n_{1} n_{g1} + 0.320393 n_{2} n_{g2}\\right) - \\left(- 13.076921 θ_{3}^{2} + EJ_{11} \\cos{\\left(θ_{1} \\right)} + EJ_{12} \\cos{\\left((2πΦ_{1}) + θ_{1} \\right)} + EJ_{21} \\cos{\\left(θ_{2} \\right)} + EJ_{22} \\cos{\\left((2πΦ_{2}) + θ_{2} \\right)}\\right)$"
      ],
      "text/plain": [
       "<IPython.core.display.Latex object>"
      ]
     },
     "metadata": {},
     "output_type": "display_data"
    },
    {
     "data": {
      "text/latex": [
       "Operators (flux, charge) - cutoff:   \n",
       " Discrete Charge Basis:  $(θ1, n1) - 5$, $(θ2, n2) - 5$,   \n",
       "Harmonic oscillator basis:  $(θ3, Q3) - 30$, "
      ],
      "text/plain": [
       "<IPython.core.display.Latex object>"
      ]
     },
     "metadata": {},
     "output_type": "display_data"
    },
    {
     "data": {
      "text/latex": [
       "Symbolic parameters (symbol, default value):  $(EJ11, 10.0)$, $(ECJ11, 0.15)$, $(EJ12, 11.0)$, $(ECJ12, 0.15)$, $(EJ21, 8.5)$, $(ECJ21, 0.1)$, $(EJ22, 8.7)$, $(ECJ22, 0.1)$, "
      ],
      "text/plain": [
       "<IPython.core.display.Latex object>"
      ]
     },
     "metadata": {},
     "output_type": "display_data"
    },
    {
     "data": {
      "text/latex": [
       "External fluxes (symbol, default value):  $(Φ1, 0.0)$, $(Φ2, 0.0)$, "
      ],
      "text/plain": [
       "<IPython.core.display.Latex object>"
      ]
     },
     "metadata": {},
     "output_type": "display_data"
    },
    {
     "data": {
      "text/latex": [
       "Offset charges (symbol, default value):  $(ng1, 0.0)$, $(ng2, 0.0)$, "
      ],
      "text/plain": [
       "<IPython.core.display.Latex object>"
      ]
     },
     "metadata": {},
     "output_type": "display_data"
    },
    {
     "data": {
      "text/latex": [
       "System hierarchy: [[1], [2], [3]]"
      ],
      "text/plain": [
       "<IPython.core.display.Latex object>"
      ]
     },
     "metadata": {},
     "output_type": "display_data"
    },
    {
     "data": {
      "text/latex": [
       "Truncated Dimensions: [4, 4, 4]"
      ],
      "text/plain": [
       "<IPython.core.display.Latex object>"
      ]
     },
     "metadata": {},
     "output_type": "display_data"
    },
    {
     "data": {
      "text/plain": [
       "Circuit_4"
      ]
     },
     "execution_count": 18,
     "metadata": {},
     "output_type": "execute_result"
    }
   ],
   "source": [
    "circ"
   ]
  },
  {
   "cell_type": "markdown",
   "id": "a550046a-8f1f-46ce-9372-e036b984e1b8",
   "metadata": {},
   "source": [
    "## Set up a parameter sweep over flux and offset charge of transmon 1"
   ]
  },
  {
   "cell_type": "code",
   "execution_count": 27,
   "id": "19fa13e5-ec3d-4ab7-b285-f36dbb2b8030",
   "metadata": {},
   "outputs": [],
   "source": [
    "# set up scan parameter names and values\n",
    "flux_param = \"flux1\"\n",
    "flux_vals = np.linspace(0, 0.5, 50)\n",
    "\n",
    "ng_param = \"ng1\"\n",
    "ng_vals = np.linspace(0, 0.5, 30)\n",
    "\n",
    "\n",
    "params_dict = {\n",
    "    flux_param: flux_vals, \n",
    "    ng_param: ng_vals\n",
    "}\n",
    "\n",
    "# specify how parameters affect the system\n",
    "def update_hilbertspace(flux, ng):\n",
    "    circ.Φ1 - flux\n",
    "    circ.ng1 = ng\n",
    "\n",
    "hs = circ.hilbert_space"
   ]
  },
  {
   "cell_type": "code",
   "execution_count": 29,
   "id": "5a6c0923-dc83-42b7-bdcb-5e54d001286c",
   "metadata": {},
   "outputs": [
    {
     "data": {
      "application/vnd.jupyter.widget-view+json": {
       "model_id": "cf978a1a159d4885b6dc2ef32ae70829",
       "version_major": 2,
       "version_minor": 0
      },
      "text/plain": [
       "Parallel compute bare eigensys for subsystem Subsystem_1 [num_cpus=4]"
      ]
     },
     "metadata": {},
     "output_type": "display_data"
    },
    {
     "data": {
      "application/vnd.jupyter.widget-view+json": {
       "model_id": "c1c08d9f5f854d3fa9900c6bb433a4e7",
       "version_major": 2,
       "version_minor": 0
      },
      "text/plain": [
       "Parallel compute bare eigensys for subsystem Subsystem_2 [num_cpus=4]"
      ]
     },
     "metadata": {},
     "output_type": "display_data"
    },
    {
     "data": {
      "application/vnd.jupyter.widget-view+json": {
       "model_id": "35465848857b45cf970889b02ca6f4ec",
       "version_major": 2,
       "version_minor": 0
      },
      "text/plain": [
       "Parallel compute bare eigensys for subsystem Subsystem_3 [num_cpus=4]"
      ]
     },
     "metadata": {},
     "output_type": "display_data"
    },
    {
     "data": {
      "application/vnd.jupyter.widget-view+json": {
       "model_id": "655d9ec5fc754ed38bde1f416d678a25",
       "version_major": 2,
       "version_minor": 0
      },
      "text/plain": [
       "Parallel compute dressed eigensys [num_cpus=4]"
      ]
     },
     "metadata": {},
     "output_type": "display_data"
    }
   ],
   "source": [
    "sweep = scq.ParameterSweep(\n",
    "    hilbertspace=hs,\n",
    "    paramvals_by_name=params_dict,\n",
    "    update_hilbertspace=update_hilbertspace,\n",
    "    evals_count=12,\n",
    "    num_cpus=4,\n",
    ")"
   ]
  },
  {
   "cell_type": "code",
   "execution_count": 37,
   "id": "7a193b90-183e-42a8-9fe2-27e070d7264f",
   "metadata": {},
   "outputs": [
    {
     "data": {
      "text/plain": [
       "NamedSlotsNdarray([[[-34.84100588, -33.61572619, -32.39035043, ...,\n",
       "                     -29.23438235, -29.12713622, -29.01315157],\n",
       "                    [-34.84099461, -33.61571475, -32.39033882, ...,\n",
       "                     -29.2343709 , -29.1270928 , -29.0131083 ],\n",
       "                    [-34.8409608 , -33.61568046, -32.39030396, ...,\n",
       "                     -29.23433655, -29.12696256, -29.01297847],\n",
       "                    ...,\n",
       "                    [-34.83268287, -33.60728786, -32.381778  , ...,\n",
       "                     -29.22594163, -29.09548323, -28.98158868],\n",
       "                    [-34.83204625, -33.60664271, -32.38112289, ...,\n",
       "                     -29.22529707, -29.09309478, -28.97920622],\n",
       "                    [-34.8313852 , -33.60597285, -32.38044274, ...,\n",
       "                     -29.22462792, -29.09061944, -28.97673696]],\n",
       "\n",
       "                   [[-34.84100588, -33.61572619, -32.39035043, ...,\n",
       "                     -29.23438235, -29.12713622, -29.01315157],\n",
       "                    [-34.84099461, -33.61571475, -32.39033882, ...,\n",
       "                     -29.2343709 , -29.1270928 , -29.0131083 ],\n",
       "                    [-34.8409608 , -33.61568046, -32.39030396, ...,\n",
       "                     -29.23433655, -29.12696256, -29.01297847],\n",
       "                    ...,\n",
       "                    [-34.83268287, -33.60728786, -32.381778  , ...,\n",
       "                     -29.22594163, -29.09548323, -28.98158868],\n",
       "                    [-34.83204625, -33.60664271, -32.38112289, ...,\n",
       "                     -29.22529707, -29.09309478, -28.97920622],\n",
       "                    [-34.8313852 , -33.60597285, -32.38044274, ...,\n",
       "                     -29.22462792, -29.09061944, -28.97673696]],\n",
       "\n",
       "                   [[-34.84100588, -33.61572619, -32.39035043, ...,\n",
       "                     -29.23438235, -29.12713622, -29.01315157],\n",
       "                    [-34.84099461, -33.61571475, -32.39033882, ...,\n",
       "                     -29.2343709 , -29.1270928 , -29.0131083 ],\n",
       "                    [-34.8409608 , -33.61568046, -32.39030396, ...,\n",
       "                     -29.23433655, -29.12696256, -29.01297847],\n",
       "                    ...,\n",
       "                    [-34.83268287, -33.60728786, -32.381778  , ...,\n",
       "                     -29.22594163, -29.09548323, -28.98158868],\n",
       "                    [-34.83204625, -33.60664271, -32.38112289, ...,\n",
       "                     -29.22529707, -29.09309478, -28.97920622],\n",
       "                    [-34.8313852 , -33.60597285, -32.38044274, ...,\n",
       "                     -29.22462792, -29.09061944, -28.97673696]],\n",
       "\n",
       "                   ...,\n",
       "\n",
       "                   [[-34.84100588, -33.61572619, -32.39035043, ...,\n",
       "                     -29.23438235, -29.12713622, -29.01315157],\n",
       "                    [-34.84099461, -33.61571475, -32.39033882, ...,\n",
       "                     -29.2343709 , -29.1270928 , -29.0131083 ],\n",
       "                    [-34.8409608 , -33.61568046, -32.39030396, ...,\n",
       "                     -29.23433655, -29.12696256, -29.01297847],\n",
       "                    ...,\n",
       "                    [-34.83268287, -33.60728786, -32.381778  , ...,\n",
       "                     -29.22594163, -29.09548323, -28.98158868],\n",
       "                    [-34.83204625, -33.60664271, -32.38112289, ...,\n",
       "                     -29.22529707, -29.09309478, -28.97920622],\n",
       "                    [-34.8313852 , -33.60597285, -32.38044274, ...,\n",
       "                     -29.22462792, -29.09061944, -28.97673696]],\n",
       "\n",
       "                   [[-34.84100588, -33.61572619, -32.39035043, ...,\n",
       "                     -29.23438235, -29.12713622, -29.01315157],\n",
       "                    [-34.84099461, -33.61571475, -32.39033882, ...,\n",
       "                     -29.2343709 , -29.1270928 , -29.0131083 ],\n",
       "                    [-34.8409608 , -33.61568046, -32.39030396, ...,\n",
       "                     -29.23433655, -29.12696256, -29.01297847],\n",
       "                    ...,\n",
       "                    [-34.83268287, -33.60728786, -32.381778  , ...,\n",
       "                     -29.22594163, -29.09548323, -28.98158868],\n",
       "                    [-34.83204625, -33.60664271, -32.38112289, ...,\n",
       "                     -29.22529707, -29.09309478, -28.97920622],\n",
       "                    [-34.8313852 , -33.60597285, -32.38044274, ...,\n",
       "                     -29.22462792, -29.09061944, -28.97673696]],\n",
       "\n",
       "                   [[-34.84100588, -33.61572619, -32.39035043, ...,\n",
       "                     -29.23438235, -29.12713622, -29.01315157],\n",
       "                    [-34.84099461, -33.61571475, -32.39033882, ...,\n",
       "                     -29.2343709 , -29.1270928 , -29.0131083 ],\n",
       "                    [-34.8409608 , -33.61568046, -32.39030396, ...,\n",
       "                     -29.23433655, -29.12696256, -29.01297847],\n",
       "                    ...,\n",
       "                    [-34.83268287, -33.60728786, -32.381778  , ...,\n",
       "                     -29.22594163, -29.09548323, -28.98158868],\n",
       "                    [-34.83204625, -33.60664271, -32.38112289, ...,\n",
       "                     -29.22529707, -29.09309478, -28.97920622],\n",
       "                    [-34.8313852 , -33.60597285, -32.38044274, ...,\n",
       "                     -29.22462792, -29.09061944, -28.97673696]]],\n",
       "                  shape=(50, 30, 12))"
      ]
     },
     "execution_count": 37,
     "metadata": {},
     "output_type": "execute_result"
    }
   ],
   "source": [
    "sweep[\"evals\"]"
   ]
  },
  {
   "cell_type": "code",
   "execution_count": null,
   "id": "410515a8-69b3-4118-9416-db316a4fe0eb",
   "metadata": {},
   "outputs": [],
   "source": []
  },
  {
   "cell_type": "code",
   "execution_count": null,
   "id": "34157d57-7393-4589-bf12-421b5d9c9101",
   "metadata": {},
   "outputs": [],
   "source": []
  }
 ],
 "metadata": {
  "kernelspec": {
   "display_name": "Python 3 (ipykernel)",
   "language": "python",
   "name": "python3"
  },
  "language_info": {
   "codemirror_mode": {
    "name": "ipython",
    "version": 3
   },
   "file_extension": ".py",
   "mimetype": "text/x-python",
   "name": "python",
   "nbconvert_exporter": "python",
   "pygments_lexer": "ipython3",
   "version": "3.11.11"
  }
 },
 "nbformat": 4,
 "nbformat_minor": 5
}
