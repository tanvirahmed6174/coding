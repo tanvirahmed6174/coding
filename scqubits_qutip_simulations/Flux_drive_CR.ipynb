{
 "cells": [
  {
   "cell_type": "markdown",
   "id": "a66bb314",
   "metadata": {},
   "source": [
    "## Here, the goal is I want to drive the Fluxonium qubit through its flux line and I don't know yet what will happen. "
   ]
  },
  {
   "cell_type": "code",
   "execution_count": 11,
   "id": "07fe2a84",
   "metadata": {},
   "outputs": [],
   "source": [
    "import scqubits as scq\n",
    "import numpy as np\n",
    "import qutip as qt\n",
    "import matplotlib.pyplot as plt\n",
    "import scipy.optimize as opt\n",
    "from qutip.qip.operations import cnot\n",
    "import json\n",
    "\n",
    "# Load parameters from JSON\n",
    "with open(\"cr_params.json\", \"r\") as f:\n",
    "    params = json.load(f)\n",
    "FT_Device = params[\"FUN5_Right\"]\n",
    "# FT_Device = params[\"UMA5\"]\n",
    "# FT_Device = params[\"FTF_FUN10_Type_1\"]\n",
    "\n",
    "k = 120\n",
    "trunc = 6\n",
    "\n",
    "Fl1 = scq.Fluxonium(\n",
    "    EJ=FT_Device['fluxonium']['EJ'],\n",
    "    EC=FT_Device['fluxonium']['EC'],\n",
    "    EL=FT_Device['fluxonium']['EL'],\n",
    "    flux=0.5,\n",
    "    cutoff=k,\n",
    "    truncated_dim=trunc\n",
    ")\n",
    "Tr = scq.Transmon(\n",
    "    EJ=FT_Device['transmon']['EJ'],\n",
    "    EC=FT_Device['transmon']['EC'],\n",
    "    ng=0,\n",
    "    ncut=k,\n",
    "    truncated_dim=trunc\n",
    ")\n",
    "\n",
    "J1T = FT_Device['Jc']\n",
    "\n",
    "full_system = scq.HilbertSpace([Fl1, Tr])\n",
    "full_system.add_interaction(\n",
    "    g=J1T,\n",
    "    op1=(Fl1.n_operator(), Fl1),\n",
    "    op2=(Tr.n_operator(), Tr)\n",
    ")\n",
    "full_system.generate_bare_esys()\n",
    "full_system.generate_lookup()\n",
    "\n",
    "H_full = 2 * np.pi * full_system.hamiltonian()\n",
    "evals, ekets = H_full.eigenstates()\n",
    "\n",
    "n_Fl1_full = scq.identity_wrap(Fl1.n_operator(), Fl1, [Fl1, Tr])\n",
    "n_Tr_full = scq.identity_wrap(Tr.n_operator(), Tr, [Fl1, Tr])\n",
    "\n",
    "phi_Fl1_full = scq.identity_wrap(Fl1.phi_operator(), Fl1, [Fl1, Tr])\n",
    "# phi_Tr_full = scq.identity_wrap(Tr.phi_operator(), Tr, [Fl1, Tr])\n",
    "\n",
    "def get_dressed_epairs(evals, ekets):\n",
    "    dressed_epairs = np.empty((5, 5), dtype=object)\n",
    "    for i in range(4):\n",
    "        for j in range(4):\n",
    "            index = full_system.dressed_index((i, j))\n",
    "            ztemp = qt.tensor(qt.basis(trunc, i), qt.basis(trunc, j)).overlap(ekets[index])\n",
    "            np.angle(ztemp)\n",
    "            dressed_epairs[i, j] = (evals[index], np.exp(-1j * np.angle(ztemp)) * ekets[index])\n",
    "    return dressed_epairs\n",
    "\n",
    "dressed_epairs = get_dressed_epairs(evals, ekets)"
   ]
  },
  {
   "cell_type": "code",
   "execution_count": 12,
   "id": "2a3df387",
   "metadata": {},
   "outputs": [
    {
     "name": "stdout",
     "output_type": "stream",
     "text": [
      "-i * <00|n_Fl1|01> = (0.004804163117197348+2.9449416724434294e-15j)\n",
      "-i * <10|n_Fl1|11> = (-0.042598467576720284+1.8118144259506995e-16j)\n"
     ]
    }
   ],
   "source": [
    "phi_F_00_01 = phi_Fl1_full.matrix_element(dressed_epairs[0, 0][1], dressed_epairs[0, 1][1])\n",
    "phi_F_10_11 = phi_Fl1_full.matrix_element(dressed_epairs[1, 0][1], dressed_epairs[1, 1][1])\n",
    "# phi_T_00_01 = phi_Tr_full.matrix_element(dressed_epairs[0, 0][1], dressed_epairs[0, 1][1])\n",
    "# phi_T_10_11 = phi_Tr_full.matrix_element(dressed_epairs[1, 0][1], dressed_epairs[1, 1][1])\n",
    "print(\"-i * <00|n_Fl1|01> =\", -1j * phi_F_00_01)\n",
    "print(\"-i * <10|n_Fl1|11> =\", -1j * phi_F_10_11)\n",
    "# print(\"-i * <00|n_Tr|01> =\", -1j * phi_T_00_01)\n",
    "# print(\"-i * <10|n_Tr|11> =\", -1j * phi_T_10_11)"
   ]
  }
 ],
 "metadata": {
  "kernelspec": {
   "display_name": "scqubits_copy",
   "language": "python",
   "name": "python3"
  },
  "language_info": {
   "codemirror_mode": {
    "name": "ipython",
    "version": 3
   },
   "file_extension": ".py",
   "mimetype": "text/x-python",
   "name": "python",
   "nbconvert_exporter": "python",
   "pygments_lexer": "ipython3",
   "version": "3.12.11"
  }
 },
 "nbformat": 4,
 "nbformat_minor": 5
}
