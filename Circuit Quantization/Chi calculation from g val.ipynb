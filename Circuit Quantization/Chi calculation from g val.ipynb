{
 "cells": [
  {
   "cell_type": "code",
   "execution_count": 7,
   "id": "35beef24",
   "metadata": {},
   "outputs": [],
   "source": [
    "import scqubits as scq\n",
    "import qutip as qt\n",
    "import numpy as np\n",
    "\n",
    "def compute_chi_exact(qubit_type: str,\n",
    "                      w_res_GHz: float,\n",
    "                      g_MHz: float,\n",
    "                      EC: float,\n",
    "                      EJ: float,\n",
    "                      EL: float = None,\n",
    "                      ncut: int = 41,\n",
    "                      q_dim: int = 10,\n",
    "                      res_dim: int = 20):\n",
    "    \"\"\"\n",
    "    Compute exact dispersive shift chi for a qubit (Transmon or Fluxonium)\n",
    "    coupled to a resonator, using diagonalization.\n",
    "\n",
    "    Args:\n",
    "        qubit_type : \"transmon\" or \"fluxonium\"\n",
    "        w_res_GHz  : resonator frequency (GHz)\n",
    "        g_MHz      : coupling (MHz)\n",
    "        EC, EJ     : qubit parameters (GHz)\n",
    "        EL         : inductive energy for fluxonium (GHz), required if qubit_type=\"fluxonium\"\n",
    "        ncut       : charge cutoff (qubit basis size)\n",
    "        q_dim      : truncated dimension for qubit Hilbert space\n",
    "        res_dim    : resonator Hilbert space dimension\n",
    "\n",
    "    Returns:\n",
    "        chi_exact_GHz : dispersive shift χ (GHz)\n",
    "    \"\"\"\n",
    "    g_GHz = g_MHz / 1e3\n",
    "\n",
    "\n",
    "    # --- Build qubit\n",
    "    if qubit_type.lower() == \"transmon\":\n",
    "        qubit = scq.Transmon(EJ=EJ, EC=EC, ng=0, ncut=ncut, truncated_dim=q_dim)\n",
    "    elif qubit_type.lower() == \"fluxonium\":\n",
    "        if EL is None:\n",
    "            raise ValueError(\"Fluxonium requires EL.\")\n",
    "        qubit = scq.Fluxonium(EJ=EJ, EC=EC, EL=EL, flux=0.0, cutoff=ncut, truncated_dim=q_dim)\n",
    "    else:\n",
    "        raise ValueError(\"qubit_type must be 'transmon' or 'fluxonium'.\")\n",
    "\n",
    "    # --- Build resonator\n",
    "    resonator = scq.Oscillator(E_osc=w_res_GHz, truncated_dim=res_dim)\n",
    "\n",
    "    # --- Hilbert space\n",
    "    hs = scq.HilbertSpace([qubit, resonator])\n",
    "    hs.add_interaction(\n",
    "        expr=\"g * n * a - g * n * adag\",\n",
    "        op1=(\"n\", qubit.n_operator),\n",
    "        op2=(\"adag\", resonator.creation_operator),\n",
    "        op3=(\"a\", resonator.annihilation_operator),\n",
    "        add_hc=False,\n",
    "        const=dict(g=1j * g_GHz)\n",
    "    )\n",
    "    hs.generate_lookup()\n",
    "\n",
    "    # --- Exact chi from dressed energies\n",
    "    evals = hs[\"evals\"][0]\n",
    "    diag_h = 2 * np.pi * qt.Qobj(np.diag(evals), dims=[hs.subsystem_dims]*2)\n",
    "    diag_trunc = qt.Qobj(diag_h[:10, :10])\n",
    "    evalues_GHz = (diag_trunc.eigenenergies() - diag_trunc.eigenenergies()[0]) / (2*np.pi)\n",
    "\n",
    "    e_11 = evalues_GHz[hs.dressed_index((1,1))]\n",
    "    e_10 = evalues_GHz[hs.dressed_index((1,0))]\n",
    "    e_01 = evalues_GHz[hs.dressed_index((0,1))]\n",
    "    e_00 = evalues_GHz[hs.dressed_index((0,0))]\n",
    "\n",
    "    chi_exact_GHz = e_11 - e_10 - e_01 + e_00\n",
    "    return chi_exact_GHz\n"
   ]
  },
  {
   "cell_type": "code",
   "execution_count": 46,
   "id": "d534c4be",
   "metadata": {},
   "outputs": [
    {
     "name": "stdout",
     "output_type": "stream",
     "text": [
      "Transmon χ = -2.4252128486086377 MHz\n",
      "Fluxonium χ = -0.298299844787131 MHz\n"
     ]
    }
   ],
   "source": [
    "# Transmon \n",
    "chi_t = compute_chi_exact(\"transmon\", w_res_GHz=7.3, g_MHz=150.0, EC=0.167, EJ=16)\n",
    "print(\"Transmon χ =\", chi_t*1e3, \"MHz\")\n",
    "\n",
    "# Fluxonium \n",
    "chi_f = compute_chi_exact(\"fluxonium\", w_res_GHz=7.6, g_MHz=75/2, EC=.88, EJ=5, EL=1.2)\n",
    "print(\"Fluxonium χ =\", chi_f*1e3, \"MHz\")\n"
   ]
  }
 ],
 "metadata": {
  "kernelspec": {
   "display_name": "scqubits_copy",
   "language": "python",
   "name": "python3"
  },
  "language_info": {
   "codemirror_mode": {
    "name": "ipython",
    "version": 3
   },
   "file_extension": ".py",
   "mimetype": "text/x-python",
   "name": "python",
   "nbconvert_exporter": "python",
   "pygments_lexer": "ipython3",
   "version": "3.12.11"
  }
 },
 "nbformat": 4,
 "nbformat_minor": 5
}
