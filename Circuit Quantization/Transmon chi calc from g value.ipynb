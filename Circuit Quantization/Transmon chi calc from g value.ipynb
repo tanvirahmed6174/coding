{
 "cells": [
  {
   "cell_type": "markdown",
   "id": "f466b2df",
   "metadata": {},
   "source": [
    "$ \\hat{H}_{tr} = \\omega_r \\hat{a}^\\dagger \\hat{a} + \\hat{H}_t - i g (\\hat{n}_t - n_g)(\\hat{a} - \\hat{a}^\\dagger) $"
   ]
  },
  {
   "cell_type": "code",
   "execution_count": null,
   "id": "dd2c558c",
   "metadata": {},
   "outputs": [
    {
     "name": "stdout",
     "output_type": "stream",
     "text": [
      "-2.6408 Chi (MHz)\n",
      "11.4894, 4.6805, 6.8116, 0.0000 Energies (GHz) for (11, 10, 01, 00) states\n"
     ]
    }
   ],
   "source": [
    "\n",
    "import scqubits as scq\n",
    "import qutip as qt\n",
    "import numpy as np\n",
    "\n",
    "\n",
    "EC = 0.2\n",
    "EJ = 15 # 0.22 * 110\n",
    "E_osc = 6.8  # GHz, resonator frequency\n",
    "\n",
    "tmon = scq.Transmon(\n",
    "    EJ=EJ,      # Josephson energy\n",
    "    EC=EC,      # Charging energy\n",
    "    ng=0.3,     # Offset charge\n",
    "    ncut=41,    # Charge basis cutoff\n",
    "    truncated_dim=10  # Number of levels to keep\n",
    ")\n",
    "\n",
    "\n",
    "resonator = scq.Oscillator(E_osc=E_osc, truncated_dim=20)\n",
    "\n",
    "hilbertspace = scq.HilbertSpace([tmon, resonator])\n",
    "\n",
    "g = -0.120*1j #g = 120 MHz, calculate this from  capacitance matrix\n",
    "\n",
    "hilbertspace.add_interaction(\n",
    "    expr=\"g * n * a - g * n * adag\",\n",
    "    op1=(\"n\", tmon.n_operator),\n",
    "    op2=(\"adag\", resonator.creation_operator),\n",
    "    op3 = (\"a\", resonator.annihilation_operator),\n",
    "    add_hc=False\n",
    ")\n",
    "\n",
    "hilbertspace.generate_lookup()\n",
    "    \n",
    "    # Extract eigenvalues\n",
    "evals = hilbertspace[\"evals\"][0]\n",
    "diag_dressed_hamiltonian = (\n",
    "    2 * np.pi * qt.Qobj(np.diag(evals), dims=[hilbertspace.subsystem_dims] * 2)\n",
    "    )\n",
    "\n",
    "total_truncation = 10\n",
    "def truncate(operator: qt.Qobj, dimension: int) -> qt.Qobj:\n",
    "        return qt.Qobj(operator[:dimension, :dimension])\n",
    "    \n",
    "diag_dressed_hamiltonian_trunc = truncate(diag_dressed_hamiltonian, total_truncation)\n",
    "evalues = (diag_dressed_hamiltonian_trunc.eigenenergies() - diag_dressed_hamiltonian_trunc.eigenenergies()[0]) / 6.28\n",
    "    \n",
    "    # Compute chi\n",
    "e_11 = evalues[hilbertspace.dressed_index((1,1))]\n",
    "e_10 = evalues[hilbertspace.dressed_index((1,0))]\n",
    "e_01 = evalues[hilbertspace.dressed_index((0,1))]\n",
    "e_00 = evalues[hilbertspace.dressed_index((0,0))]\n",
    "    \n",
    "chi = e_11 - e_10 - e_01 + e_00\n",
    "\n",
    "\n",
    "\n",
    "print(f\"{chi*1000:.4f} Chi (MHz)\")\n",
    "\n",
    "print(f\"{e_11:.4f}, {e_10:.4f}, {e_01:.4f}, {e_00:.4f} Energies (GHz) for (11, 10, 01, 00) states\")\n",
    "detuning = e_10 - e_01\n",
    "# print(f\"{detuning:.4f} Detuning (GHz)\")\n",
    "\n",
    "\n",
    "Chi = abs(chi)"
   ]
  }
 ],
 "metadata": {
  "kernelspec": {
   "display_name": "scqubits_test",
   "language": "python",
   "name": "python3"
  },
  "language_info": {
   "codemirror_mode": {
    "name": "ipython",
    "version": 3
   },
   "file_extension": ".py",
   "mimetype": "text/x-python",
   "name": "python",
   "nbconvert_exporter": "python",
   "pygments_lexer": "ipython3",
   "version": "3.12.11"
  }
 },
 "nbformat": 4,
 "nbformat_minor": 5
}
