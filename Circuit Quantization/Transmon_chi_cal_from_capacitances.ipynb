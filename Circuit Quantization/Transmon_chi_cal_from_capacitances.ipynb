{
 "cells": [
  {
   "cell_type": "code",
   "execution_count": null,
   "id": "16bad94d",
   "metadata": {},
   "outputs": [
    {
     "name": "stdout",
     "output_type": "stream",
     "text": [
      "g_qr = 66.921 MHz, chi_qr = 0.185 MHz\n",
      "g_qls = 8.554 MHz, chi_qls = 0.430 MHz\n",
      "g_qrs = 24.934 MHz, chi_qrs = 0.049 MHz\n"
     ]
    }
   ],
   "source": [
    "import numpy as np\n",
    "\n",
    "# Capacitance values (Farads)\n",
    "C_q = 7.837e-14      # Qubit capacitance\n",
    "C_r = 3.525e-13      # Resonator 1 capacitance\n",
    "C_ls = 8.073e-13     # Resonator 2 capacitance\n",
    "C_rs = 4.257e-13     # Resonator 3 capacitance\n",
    "\n",
    "# Coupling capacitances (Farads)\n",
    "C_qr = 5.181e-15     # Qubit-Resonator 1 coupling\n",
    "C_qls = 1.414e-15    # Qubit-Resonator 2 coupling\n",
    "C_qrs = 2.184e-15    # Qubit-Resonator 3 coupling\n",
    "\n",
    "# Frequencies (rad/s) -- fill in your values\n",
    "w_q = 3.2e9 # low freq  #MHz      # Qubit frequency\n",
    "w_r = 6.73e9   # Resonator 1 frequency\n",
    "w_ls = 3.01e9  # Resonator 2 frequency\n",
    "w_rs = 5.8e9   # Resonator 3 frequency\n",
    "\n",
    "alpha = 0.24e9  # Anharmonicity (example value)\n",
    "\n",
    "# g calculations\n",
    "g_qr = 0.5 * np.sqrt(w_q * C_q) * np.sqrt(w_r * C_r) * (C_qr / (C_q * C_qr + C_q * C_r + C_qr * C_r))\n",
    "g_qls = 0.5 * np.sqrt(w_q * C_q) * np.sqrt(w_ls * C_ls) * (C_qls / (C_q * C_qls + C_q * C_ls + C_qls * C_ls))\n",
    "g_qrs = 0.5 * np.sqrt(w_q * C_q) * np.sqrt(w_rs * C_rs) * (C_qrs / (C_q * C_qrs + C_q * C_rs + C_qrs * C_rs))\n",
    "\n",
    "# Detunings\n",
    "Delta_qr = w_q - w_r\n",
    "Delta_qls = w_q - w_ls\n",
    "Delta_qrs = w_q - w_rs\n",
    "\n",
    "# chi calculations\n",
    "chi_qr = (2 * g_qr**2 / Delta_qr) - (2 * g_qr**2 / (Delta_qr + alpha))\n",
    "chi_qls = (2 * g_qls**2 / Delta_qls) - (2 * g_qls**2 / (Delta_qls + alpha))\n",
    "chi_qrs = (2 * g_qrs**2 / Delta_qrs) - (2 * g_qrs**2 / (Delta_qrs + alpha))\n",
    "\n",
    "print(f\"g_qr = {g_qr/1e6:.3f} MHz, chi_qr = {chi_qr/1e6:.3e} Hz\")\n",
    "print(f\"g_qls = {g_qls/1e6:.3f} MHz, chi_qls = {chi_qls:.3e} Hz\")\n",
    "print(f\"g_qrs = {g_qrs/1e6:.3f} MHz, chi_qrs = {chi_qrs:.3e} Hz\")\n"
   ]
  },
  {
   "cell_type": "code",
   "execution_count": null,
   "id": "a895d688",
   "metadata": {},
   "outputs": [
    {
     "name": "stdout",
     "output_type": "stream",
     "text": [
      "Qubit-Resonator 1: g = 72.329 MHz, chi = -0.000 MHz\n",
      "Qubit-Resonator 2: g = 8.723 MHz, chi = -0.000 MHz\n",
      "Qubit-Resonator 3: g = 25.756 MHz, chi = -0.000 MHz\n"
     ]
    }
   ],
   "source": [
    "import numpy as np\n",
    "\n",
    "# Capacitance values (Farads)\n",
    "C_q = 7.837e-14      # Qubit capacitance\n",
    "C_r = 3.525e-13      # Resonator 1 capacitance\n",
    "C_ls = 8.073e-13     # Resonator 2 capacitance\n",
    "C_rs = 4.257e-13     # Resonator 3 capacitance\n",
    "\n",
    "# Coupling capacitances (Farads)\n",
    "C_qr = 5.181e-15     # Qubit-Resonator 1 coupling\n",
    "C_qls = 1.414e-15    # Qubit-Resonator 2 coupling\n",
    "C_qrs = 2.184e-15    # Qubit-Resonator 3 coupling\n",
    "\n",
    "# Frequencies (GHz)\n",
    "f_q = 3.2e9    # Qubit frequency (GHz)\n",
    "f_r = 6.73e9   # Resonator 1 frequency (GHz)\n",
    "f_ls = 3.01e9  # Resonator 2 frequency (GHz)\n",
    "f_rs = 5.8e9   # Resonator 3 frequency (GHz)\n",
    "\n",
    "\n",
    "Ec_q = -.240  # in GHz\n",
    "\n",
    "# eta (in MHz)\n",
    "eta = Ec_q \n",
    "\n",
    "def calc_g_chi(C_g, C_r, f_r_GHz, label):\n",
    "    beta = C_g / C_q\n",
    "    g = 0.5 * beta * np.sqrt(f_q * C_q) * np.sqrt(f_r_GHz / C_r)  # MHz\n",
    "    delta = (f_r_GHz  - f_q)  # MHz\n",
    "    chi = 2 * (g**2 / delta) * eta / (delta + eta) * (f_r_GHz / f_q)\n",
    "    print(f\"{label}: g = {g:.3f} MHz, chi = {chi:.3f} MHz\")\n",
    "    return g, chi\n",
    "\n",
    "g_qr, chi_qr = calc_g_chi(C_qr, C_r, f_r, \"Qubit-Resonator 1\")\n",
    "g_qls, chi_qls = calc_g_chi(C_qls, C_ls, f_ls, \"Qubit-Resonator 2\")\n",
    "g_qrs, chi_qrs = calc_g_chi(C_qrs, C_rs, f_rs, \"Qubit-Resonator 3\")"
   ]
  },
  {
   "cell_type": "code",
   "execution_count": 14,
   "id": "572e1129",
   "metadata": {},
   "outputs": [
    {
     "name": "stdout",
     "output_type": "stream",
     "text": [
      "g_qr = 7.233e+07 \n"
     ]
    }
   ],
   "source": [
    "C_q = 7.837e-14 \n",
    "C_qr = 5.181e-15\n",
    "f_q = 3.2e9  # Qubit frequency in GHz\n",
    "f_r = 6.73e9  # Resonator 1 frequency in GHz\n",
    "beta = C_qr / C_q\n",
    "\n",
    "g = 0.5 * beta * np.sqrt(f_q * C_q) * np.sqrt(f_r / C_r)\n",
    "print(f\"g_qr = {g:.3e} \")"
   ]
  },
  {
   "cell_type": "code",
   "execution_count": 31,
   "id": "15cd55cd",
   "metadata": {},
   "outputs": [
    {
     "name": "stdout",
     "output_type": "stream",
     "text": [
      "Qubit-Resonator 1: g = 72.329 MHz, chi = 0.000 MHz\n",
      "Qubit-Resonator 2: g = 8.723 MHz, chi = 0.000 MHz\n",
      "Qubit-Resonator 3: g = 25.756 MHz, chi = 0.000 MHz\n"
     ]
    }
   ],
   "source": [
    "import numpy as np\n",
    "\n",
    "# Capacitance values (Farads)\n",
    "C_q = 7.837e-14\n",
    "C_r = 3.525e-13\n",
    "C_ls = 8.073e-13\n",
    "C_rs = 4.257e-13\n",
    "\n",
    "# Coupling capacitances (Farads)\n",
    "C_qr = 5.181e-15\n",
    "C_qls = 1.414e-15\n",
    "C_qrs = 2.184e-15\n",
    "\n",
    "# Frequencies (Hz)\n",
    "f_q = 3.2e9\n",
    "f_r = 6.73e9\n",
    "f_ls = 3.01e9\n",
    "f_rs = 5.8e9\n",
    "\n",
    "# Anharmonicity (Hz)\n",
    "alpha = 0.240e9  # negative for transmon\n",
    "\n",
    "def calc_g(C_g, C_r, f_r):\n",
    "    beta = C_g / C_q\n",
    "    return 0.5 * beta * np.sqrt(f_q * C_q) * np.sqrt(f_r / C_r)/1e6\n",
    "\n",
    "def calc_chi(g, delta, alpha):\n",
    "    return 2 * g**2 * alpha / (delta*(delta + alpha))\n",
    "\n",
    "# Qubit-Resonator 1\n",
    "g_qr = calc_g(C_qr, C_r, f_r)\n",
    "Delta_qr = f_q - f_r\n",
    "chi_qr = calc_chi(g_qr, Delta_qr, alpha)\n",
    "print(f\"Qubit-Resonator 1: g = {g_qr:.3f} MHz, chi = {chi_qr/1e6:.3f} MHz\")\n",
    "\n",
    "# Qubit-Resonator 2\n",
    "g_qls = calc_g(C_qls, C_ls, f_ls)\n",
    "Delta_qls = f_q - f_ls\n",
    "chi_qls = calc_chi(g_qls, Delta_qls, alpha)\n",
    "print(f\"Qubit-Resonator 2: g = {g_qls:.3f} MHz, chi = {chi_qls/1e6:.3f} MHz\")\n",
    "\n",
    "# Qubit-Resonator 3\n",
    "g_qrs = calc_g(C_qrs, C_rs, f_rs)\n",
    "Delta_qrs = f_q - f_rs\n",
    "chi_qrs = calc_chi(g_qrs, Delta_qrs, alpha)\n",
    "print(f\"Qubit-Resonator 3: g = {g_qrs:.3f} MHz, chi = {chi_qrs/1e6:.3f} MHz\")"
   ]
  }
 ],
 "metadata": {
  "kernelspec": {
   "display_name": "scqubits_new",
   "language": "python",
   "name": "python3"
  },
  "language_info": {
   "codemirror_mode": {
    "name": "ipython",
    "version": 3
   },
   "file_extension": ".py",
   "mimetype": "text/x-python",
   "name": "python",
   "nbconvert_exporter": "python",
   "pygments_lexer": "ipython3",
   "version": "3.11.0"
  }
 },
 "nbformat": 4,
 "nbformat_minor": 5
}
