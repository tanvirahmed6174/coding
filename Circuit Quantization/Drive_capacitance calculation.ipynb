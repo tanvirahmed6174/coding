{
 "cells": [
  {
   "cell_type": "code",
   "execution_count": 4,
   "id": "1f296e12",
   "metadata": {},
   "outputs": [
    {
     "data": {
      "text/plain": [
       "(0.026695345163083656, 22.788505087834263)"
      ]
     },
     "execution_count": 4,
     "metadata": {},
     "output_type": "execute_result"
    }
   ],
   "source": [
    "import math\n",
    "\n",
    "# Physical constants\n",
    "e = 1.602176634e-19      # Coulomb\n",
    "h = 6.62607015e-34       # J*s\n",
    "pi = math.pi\n",
    "Z0 = 50.0                # Ohm\n",
    "\n",
    "def Cd_from_EC_T1(EC_GHz, T1_s, f_q_GHz=5.0, Z0_ohm=50.0):\n",
    "    \"\"\"\n",
    "    Compute coupling capacitor Cd from Purcell-limited decay rate:\n",
    "        kappa_q = Z0 * omega_q^2 * (Cd^2 / Csum)\n",
    "    Inputs:\n",
    "        EC_GHz : transmon charging energy in GHz (EC/h)\n",
    "        T1_s   : desired T1 in seconds\n",
    "        f_q_GHz: qubit frequency in GHz (default 5 GHz)\n",
    "        Z0_ohm : line impedance (default 50 Ohm)\n",
    "    Returns:\n",
    "        Cd in Farads and Csum in Farads\n",
    "    \"\"\"\n",
    "    EC_Hz = EC_GHz * 1e9                   # EC/h in Hz\n",
    "    Csum = e**2 / (2 * h * EC_Hz)          # EC/h = e^2/(2 h Csum)\n",
    "    omega_q = 2 * math.pi * f_q_GHz * 1e9  # rad/s\n",
    "    kappa_q = 1.0 / T1_s                   # 1/s\n",
    "    Cd = math.sqrt(kappa_q * Csum / (Z0_ohm * omega_q**2))\n",
    "    return Cd, Csum\n",
    "\n",
    "# Example calculation with EC=0.16 GHz, T1=1 ms, fq=5 GHz\n",
    "Cd_F, Csum_F = Cd_from_EC_T1(EC_GHz=0.85, T1_s=0.8e-3, f_q_GHz=4.5, Z0_ohm=50.0)\n",
    "Cd_fF = Cd_F * 1e15\n",
    "Csum_fF = Csum_F * 1e15\n",
    "\n",
    "Cd_fF, Csum_fF\n"
   ]
  },
  {
   "cell_type": "code",
   "execution_count": 7,
   "id": "e80fc5b4",
   "metadata": {},
   "outputs": [
    {
     "name": "stdout",
     "output_type": "stream",
     "text": [
      "C_sum   = 20.53 fF\n",
      "Cg_eff  = -0.11000000000000001 fF  (use abs for magnitude)\n",
      "EC      = 0.9435084912157389 GHz\n"
     ]
    }
   ],
   "source": [
    "import numpy as np\n",
    "\n",
    "def fluxonium_3node_myM(\n",
    "    C_top, C_bot, C12, C1, C2, cg1=0.0, cg2=0.0,  # caps (same units throughout, e.g. F or fF)\n",
    "    want_g=False, Z0=50.0\n",
    "):\n",
    "    \"\"\"\n",
    "    3-node two-floating-pads + drive, using YOUR transform:\n",
    "        M = [[1,1,0],[1,-1,0],[0,0,1]]\n",
    "        C_tilde = M^{-1} C M^{-1}\n",
    "    Returns physical C_sum and Cg_eff; also EC from C_sum (Hz, GHz).\n",
    "    If want_g=True, also returns a simple external-coupling g (Hz) from Cg_eff.\n",
    "    \"\"\"\n",
    "\n",
    "    # ---- build 3x3 node-capacitance matrix in node order [x,y,z] ----\n",
    "    Cg_drive = cg1 + cg2\n",
    "    C = np.array([\n",
    "        [C_top + C12 + C1,    -C12,             -C1],\n",
    "        [-C12,                C_bot + C12 + C2, -C2],\n",
    "        [-C1,                 -C2,              C1 + C2 + Cg_drive]\n",
    "    ], dtype=float)\n",
    "\n",
    "    # ---- your transform ----\n",
    "    M = np.array([[1., 1., 0.],\n",
    "                  [1.,-1., 0.],\n",
    "                  [0., 0., 1.]], dtype=float)\n",
    "    Minv = np.linalg.inv(M)\n",
    "    C_tilde = Minv @ C @ Minv\n",
    "\n",
    "    # In this basis, coordinates are q' = [(x+y)/2, (x-y)/2, z] = [c, d', z].\n",
    "    # The physical differential coordinate is d = x - y = 2 d'.\n",
    "    # Therefore: C_sum = 4 * C_tilde[d',d'],   Cg_eff = 2 * C_tilde[d',z].\n",
    "    Cdd_scaled = C_tilde[1, 1]\n",
    "    Cdz_scaled = C_tilde[1, 2]\n",
    "\n",
    "    C_sum   = 1.0 * Cdd_scaled                 # physical qubit capacitance\n",
    "    Cg_eff  = 1.0 * Cdz_scaled                 # effective drive-to-qubit cap (signed)\n",
    "\n",
    "    # ---- EC from C_sum ----\n",
    "    e  = 1.602176634e-19   # C\n",
    "    h  = 6.62607015e-34    # J*s\n",
    "    # If inputs were in fF, convert C_sum_fF -> F before computing EC.\n",
    "    # Here we assume inputs are in SI F. If they are in fF, multiply C_sum by 1e-15 first.\n",
    "    EC_Hz  = (e**2) / (2.0 * h * C_sum)        # Hz\n",
    "    EC_GHz = EC_Hz / 1e9\n",
    "\n",
    "    out = dict(C_sum=C_sum, Cg_eff=Cg_eff, EC_Hz=EC_Hz, EC_GHz=EC_GHz,\n",
    "               C_tilde=C_tilde, C_matrix=C)\n",
    "\n",
    "    if want_g:\n",
    "        # very simple external coupling scale (harmonic-oscillator limit)\n",
    "        # g ~ e/(2 sqrt(h Z0)) * (Cdz_scaled * 2) / C_sum  * w   (choose w externally for accuracy)\n",
    "        # Here we only return the geometric prefactor G = e/(2 sqrt(h Z0)) * (Cg_eff / C_sum) (Hz / rad/s)\n",
    "        G = (e / (2.0 * np.sqrt(h * Z0))) * (Cg_eff / C_sum)   # [Hz / sqrt(rad/s)] up to an ω factor\n",
    "        out[\"g_geom\"] = G\n",
    "    return out\n",
    "\n",
    "# ---------- example (numbers in fF) ----------\n",
    "# If your numbers are in fF, convert once to SI before calling (or multiply C_sum by 1e-15 afterward).\n",
    "fF = 1e-15\n",
    "ex = fluxonium_3node_myM(\n",
    "    C_top=25*fF, C_bot=44*fF, C12=3.2*fF,\n",
    "    C1=0.27*fF, C2=0.05*fF, cg1=0.0, cg2=0.0\n",
    ")\n",
    "print(\"C_sum   =\", ex[\"C_sum\"]/fF, \"fF\")\n",
    "print(\"Cg_eff  =\", ex[\"Cg_eff\"]/fF, \"fF  (use abs for magnitude)\")\n",
    "print(\"EC      =\", ex[\"EC_GHz\"], \"GHz\")\n"
   ]
  }
 ],
 "metadata": {
  "kernelspec": {
   "display_name": "scqubits_copy",
   "language": "python",
   "name": "python3"
  },
  "language_info": {
   "codemirror_mode": {
    "name": "ipython",
    "version": 3
   },
   "file_extension": ".py",
   "mimetype": "text/x-python",
   "name": "python",
   "nbconvert_exporter": "python",
   "pygments_lexer": "ipython3",
   "version": "3.12.11"
  }
 },
 "nbformat": 4,
 "nbformat_minor": 5
}
