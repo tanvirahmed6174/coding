{
 "cells": [
  {
   "cell_type": "markdown",
   "metadata": {},
   "source": [
    "# Cross-resonance gate between a transmon and a fluxonium\n",
    "\n",
    "In this tutorial notebook we study the cross-resonance two-qubit gate between a transmon and a fluxonium. "
   ]
  },
  {
   "cell_type": "code",
   "execution_count": 46,
   "metadata": {},
   "outputs": [],
   "source": [
    "import numpy as np\n",
    "import scipy.integrate\n",
    "import time\n",
    "import qutip as qtp\n",
    "import matplotlib.pyplot as plt\n",
    "from scipy.optimize import minimize\n",
    "import pysqkit\n",
    "from pysqkit import QubitSystem, Qubit\n",
    "from pysqkit.drives.pulse_shapes import gaussian_top\n",
    "from pysqkit.util.metrics import average_process_fidelity, \\\n",
    "    average_gate_fidelity\n",
    "from pysqkit.util.phys import temperature_to_thermalenergy\n",
    "import pysqkit.util.transformations as trf\n",
    "from pysqkit.util.linalg import get_mat_elem\n",
    "from pysqkit.solvers.solvkit import integrate\n",
    "from pysqkit.util.hsbasis import pauli_by_index\n",
    "from pysqkit.solvers import solvkit\n",
    "from pysqkit.drives.pulse_shapes import gaussian_top\n",
    "from typing import List, Dict, Callable\n",
    "import matplotlib\n",
    "matplotlib.rcParams['mathtext.fontset'] = 'cm'\n",
    "import copy\n",
    "import json\n",
    "import cmath\n",
    "import util_tf_cr\n",
    "\n",
    "from IPython.display import display, Latex"
   ]
  },
  {
   "cell_type": "markdown",
   "metadata": {},
   "source": [
    "The gate is based on the following driven Hamiltonian of a fluxonium and a transmon capacitively coupled\n",
    "\n",
    "$$H = H^{(0)}_t + H^{(0)}_f + V + H_{drive},$$\n",
    "\n",
    "$$H^{(0)}_T =  \\hbar \\omega_t b^{\\dagger}b + \\hbar \\frac{\\delta_t}{2} b^{\\dagger} b^{\\dagger}b b,$$\n",
    "\n",
    "$$H^{(0)}_f = 4 E_{C,f} q_f^2 + \\frac{1}{2}E_{L,f}\\phi_f^2 - E_{J,f}\\cos\\left(\\phi_f - \\phi_{ext,f}\\right),$$\n",
    "\n",
    "\n",
    "$$V = J_C q_t q_f,$$\n",
    "\n",
    "$$H_{drive} = \\hbar g(t) \\varepsilon_d \\cos(2\\pi f_d t) q_f  ,$$\n",
    "\n",
    "with $$g(t) \\in [0, 1], \\, \\forall t$$ an envelope function.\n",
    "\n",
    "The (approximate) charge operator for the transmon in terms of annihilation and creation operators reads\n",
    "\n",
    "$$q_t = i \\biggl( \\frac{E_J}{32 |\\delta_T |} \\biggr)^{1/4} (b^{\\dagger} - b),$$\n",
    "where \n",
    "$$\n",
    "E_{J, t} = \\frac{\\hbar  (\\omega_t - \\delta_t)^2}{8 | \\delta_t |}.\n",
    "$$\n",
    "\n",
    "In the following we also consider the case in which we have relaxation due to dielectric loss.\n",
    "\n",
    "The idea behind the cross-resonance gate is to drive one of the qubit at the frequency of the other using the fact that due to the coupling we have a $Z Y$ (or $ZX$ depending on the phase of the drive) term in the Hamiltonian. In particular, we will explore the idea of driving the fluxonium at the transmon frequency. The opposite idea to drive the transmon at the fluxonium frequency leads to much smaller gate times."
   ]
  },
  {
   "cell_type": "markdown",
   "metadata": {
    "heading_collapsed": true
   },
   "source": [
    "# Introducing the qubits and the coupled system"
   ]
  },
  {
   "cell_type": "code",
   "execution_count": 47,
   "metadata": {},
   "outputs": [],
   "source": [
    "with open('flx_transm_params.txt') as param_file:\n",
    "    parameters_set = json.load(param_file)"
   ]
  },
  {
   "cell_type": "code",
   "execution_count": 48,
   "metadata": {
    "hidden": true
   },
   "outputs": [],
   "source": [
    "temperature = 0.020 #0.020 # K\n",
    "thermal_energy = temperature_to_thermalenergy(temperature) # kb T/h in GHz\n",
    "d_comp = 4\n",
    "\n",
    "p_set = \"CR_UMA5\" # This parameter set corresponds to omega_t/2 \\pi = 4.7\n",
    "\n",
    "# Other parameter set ['CR_1', 'CR_3', 'CR_4'] corresponding to \n",
    "# omega_t/2 \\pi = 4.3, 5.3, 5.7 respectively.\n",
    "\n",
    "\n",
    "#Transmon\n",
    "levels_t = 3\n",
    "transm = pysqkit.qubits.SimpleTransmon(\n",
    "    label='T', \n",
    "    max_freq=parameters_set[p_set][\"max_freq_t\"], \n",
    "    anharm=parameters_set[p_set][\"anharm_t\"],\n",
    "    diel_loss_tan=parameters_set[p_set][\"diel_loss_tan_t\"],\n",
    "    env_thermal_energy=thermal_energy,    \n",
    "    dim_hilbert=levels_t,\n",
    "    dephasing_times=None\n",
    ")\n",
    "\n",
    "#Fluxonium\n",
    "# In this tutorial we include 5 levels, but more levels should be included\n",
    "# to capture transitions to higher levels\n",
    "levels_f = 5\n",
    "\n",
    "flx = pysqkit.qubits.Fluxonium(\n",
    "    label='F', \n",
    "    charge_energy=parameters_set[p_set][\"charge_energy_f\"], \n",
    "    induct_energy=parameters_set[p_set][\"induct_energy_f\"], \n",
    "    joseph_energy=parameters_set[p_set][\"joseph_energy_f\"],  \n",
    "    diel_loss_tan=parameters_set[p_set][\"diel_loss_tan_f\"], \n",
    "    env_thermal_energy=thermal_energy,\n",
    "    dephasing_times=None\n",
    ")\n",
    "flx.diagonalize_basis(levels_f)\n",
    "\n",
    "# We add the drive on the fluxonium\n",
    "flx.add_drive(\n",
    "    pysqkit.drives.microwave_drive,\n",
    "    label='cr_drive_f',\n",
    "    pulse=pysqkit.drives.pulses.cos_modulation,\n",
    "    pulse_shape=pysqkit.drives.pulse_shapes.gaussian_top\n",
    ")\n",
    "\n",
    "d_leak = levels_t*levels_f - d_comp\n",
    "\n",
    "jc = parameters_set[p_set][\"jc\"]\n",
    "coupled_sys = transm.couple_to(flx, coupling=pysqkit.couplers.capacitive_coupling, strength=jc)\n",
    "bare_system = transm.couple_to(flx, coupling=pysqkit.couplers.capacitive_coupling, strength=0.0)\n",
    "\n",
    "states_label = coupled_sys.all_state_labels()\n",
    "states_dict = coupled_sys.states_as_dict(as_qobj=True)\n",
    "flx_freq = flx.eig_energies(2)[1] - flx.eig_energies(2)[0]\n",
    "flx_freq_03 = flx.eig_energies(4)[3] - flx.eig_energies(4)[0]\n",
    "flx_freq_12 = flx.eig_energies(4)[2] - flx.eig_energies(4)[1]"
   ]
  },
  {
   "cell_type": "code",
   "execution_count": 49,
   "metadata": {},
   "outputs": [],
   "source": [
    "state_label = [\"00\", \"01\", \"10\", \"11\"]\n",
    "comp_states = {}\n",
    "for label in state_label:\n",
    "    state_tmp = coupled_sys.state(label)[1]\n",
    "    loc = np.argmax(np.abs(state_tmp))\n",
    "    phase = cmath.phase(state_tmp[loc])\n",
    "    state_tmp = np.exp(-1j*phase)*state_tmp\n",
    "    comp_states[label] = state_tmp"
   ]
  },
  {
   "cell_type": "markdown",
   "metadata": {},
   "source": [
    "The basis principle behind the gate is illustrated in the following figure"
   ]
  },
  {
   "cell_type": "code",
   "execution_count": 50,
   "metadata": {},
   "outputs": [
    {
     "data": {
      "image/png": "[encoded data removed]",
      "text/plain": [
       "<Figure size 1000x800 with 1 Axes>"
      ]
     },
     "metadata": {},
     "output_type": "display_data"
    }
   ],
   "source": [
    "level_list = ['00', '01', '10', '11', '02', '20', '12','21', '03', '13', '04']\n",
    "\n",
    "util_tf_cr.energy_levels_diagram(bare_system, level_list, show_drive=False)"
   ]
  },
  {
   "cell_type": "markdown",
   "metadata": {},
   "source": [
    "The figure shows the energy of the bare levels. The orange arrows indicate the non-zero matrix elements between the (bare) levels provided by the capacitive coupling $V$: the more shaded the arrow the weaker the coupling. \n",
    "We look at the following quantities : \n",
    "\n",
    "$$\\zeta_{ZZ}/2 \\pi = (E_{00} + E_{11} - E_{01} - E_{10})/h$$\n",
    "$$\\mu_{YZ} = (\\lvert \\langle 10 | q_{F} | 00 \\rangle - \\langle 11 | q_{F} |01 \\rangle \\rvert )\\varepsilon_d/2 $$\n",
    "$$\\mu_{Y} = (\\lvert \\langle 10 | q_{F} | 00 \\rangle + \\langle 11 | q_{F} |01 \\rangle \\rvert) \\varepsilon_d/2 $$\n",
    "\n",
    "The second term quantifies the gate speed. Notice that if the phase of the drive is $0$ one has a $YZ$ term from the charge operator. \n",
    "\n",
    "For the given parameters we have"
   ]
  },
  {
   "cell_type": "code",
   "execution_count": 51,
   "metadata": {},
   "outputs": [],
   "source": [
    "# The following functions can also be found in the util_tf_cr.py file and are here reported for clarity\n",
    "# of the notebook\n",
    "\n",
    "def zz(system: QubitSystem) -> float:\n",
    "    xi_zz = system.state('00')[0] + system.state('11')[0] \\\n",
    "        - system.state('01')[0] - system.state('10')[0]\n",
    "    return xi_zz\n",
    "\n",
    "def mu_yz_flx(\n",
    "    comp_states: List[np.ndarray], \n",
    "    op: np.ndarray,\n",
    "    eps: float\n",
    ") -> float:\n",
    "    \"\"\"\n",
    "    Description\n",
    "    ---------------------------------------------------------------------------\n",
    "    Evaluates the CR coefficient numerically in the dressed basis when\n",
    "    driving the fluxonium\n",
    "    \"\"\"\n",
    "    yz0 = get_mat_elem(op, comp_states['00'], comp_states['10'])\n",
    "    yz1 = get_mat_elem(op, comp_states['01'], comp_states['11'] )\n",
    "    return (np.imag(yz0 - yz1))/2*eps/2\n",
    "\n",
    "def mu_zy_transm(\n",
    "    comp_states: List[np.ndarray], \n",
    "    op: np.ndarray,\n",
    "    eps: float\n",
    ") -> float:\n",
    "    \"\"\"\n",
    "    Description\n",
    "    ---------------------------------------------------------------------------\n",
    "    Evaluates the CR coefficient numerically in the dressed basis when\n",
    "    driving the transmon\n",
    "    \"\"\"\n",
    "    yz0 = get_mat_elem(op, comp_states['00'], comp_states['01'])\n",
    "    yz1 = get_mat_elem(op, comp_states['10'], comp_states['11'] )\n",
    "    return (np.imag(yz0 - yz1))/2\n",
    "\n",
    "def mu_yi_flx(\n",
    "    comp_states: List[np.ndarray], \n",
    "    op: np.ndarray,\n",
    "    eps: float\n",
    ") -> float:\n",
    "    \"\"\"\n",
    "    Description\n",
    "    ---------------------------------------------------------------------------\n",
    "    Evaluates the direct drive on the transmon numerically in the dressed basis \n",
    "    when driving the fluxonium\n",
    "    \"\"\"\n",
    "    yz0 = get_mat_elem(op, comp_states['00'], comp_states['10'] )\n",
    "    yz1 = get_mat_elem(op, comp_states['01'], comp_states['11'] )\n",
    "    return (np.imag(yz0 + yz1))/2*eps/2\n",
    "\n",
    "def mu_yz_flx_sw(\n",
    "    transm: Qubit,\n",
    "    flx: Qubit,\n",
    "    jc: float,\n",
    "    eps: float\n",
    "):\n",
    "    \"\"\"\n",
    "    Description\n",
    "    ---------------------------------------------------------------------------\n",
    "    Evaluates the CR coefficient via the second order Schrieffer-Wolff\n",
    "    transformation\n",
    "    \"\"\"\n",
    "    q_zpf = transm.charge_zpf\n",
    "    omega_t = transm.freq\n",
    "    omega_flx, states_flx = flx.eig_states(4)\n",
    "    omega_flx = omega_flx - omega_flx[0]\n",
    "    q_10 = np.imag(get_mat_elem(flx.charge_op(), states_flx[1], states_flx[0]))\n",
    "    q_21 = np.imag(get_mat_elem(flx.charge_op(), states_flx[2], states_flx[1]))\n",
    "    q_30 = np.imag(get_mat_elem(flx.charge_op(), states_flx[3], states_flx[0]))\n",
    "    coeff = q_21**2/(omega_flx[2] - (omega_t + omega_flx[1]))\n",
    "    coeff += -q_30**2/(omega_flx[3] - omega_t)\n",
    "    coeff += q_10**2/(omega_t - omega_flx[1]) \n",
    "    mu_yz = jc*q_zpf*coeff/2*eps/2\n",
    "    return mu_yz"
   ]
  },
  {
   "cell_type": "code",
   "execution_count": 52,
   "metadata": {},
   "outputs": [
    {
     "data": {
      "text/latex": [
       "$f_{flx} = 527.980 \\, \\mathrm{MHz}$"
      ],
      "text/plain": [
       "<IPython.core.display.Latex object>"
      ]
     },
     "metadata": {},
     "output_type": "display_data"
    },
    {
     "data": {
      "text/latex": [
       "$\\xi_{ZZ}/2 \\pi = 0.217 \\, \\mathrm{MHz}$"
      ],
      "text/plain": [
       "<IPython.core.display.Latex object>"
      ]
     },
     "metadata": {},
     "output_type": "display_data"
    },
    {
     "data": {
      "text/latex": [
       "$\\mu_{YZ}/2 \\pi = -0.5707 \\, \\mathrm{MHz}$"
      ],
      "text/plain": [
       "<IPython.core.display.Latex object>"
      ]
     },
     "metadata": {},
     "output_type": "display_data"
    },
    {
     "data": {
      "text/latex": [
       "$\\mu_{YZ}^{(SW)}/2\\pi = -0.6456 \\, \\mathrm{MHz}$"
      ],
      "text/plain": [
       "<IPython.core.display.Latex object>"
      ]
     },
     "metadata": {},
     "output_type": "display_data"
    },
    {
     "data": {
      "text/latex": [
       "$\\mu_{YI}/2\\pi = 0.0779 \\, \\mathrm{MHz}$"
      ],
      "text/plain": [
       "<IPython.core.display.Latex object>"
      ]
     },
     "metadata": {},
     "output_type": "display_data"
    },
    {
     "data": {
      "text/latex": [
       "$\\mu_{ZY}/2\\pi = -0.000021 \\, \\mathrm{MHz}$"
      ],
      "text/plain": [
       "<IPython.core.display.Latex object>"
      ]
     },
     "metadata": {},
     "output_type": "display_data"
    }
   ],
   "source": [
    "# Example\n",
    "eps_test = 0.3\n",
    "display(Latex(r'$f_{{flx}} = {:.3f} \\, \\mathrm{{MHz}}$'.format(flx_freq*1e3)))\n",
    "display(Latex(r'$\\xi_{{ZZ}}/2 \\pi = {:.3f} \\, \\mathrm{{MHz}}$'.format(1e3*zz(coupled_sys))))\n",
    "q_op = coupled_sys[\"F\"].charge_op()\n",
    "display(Latex(r'$\\mu_{{YZ}}/2 \\pi = {:.4f} \\, \\mathrm{{MHz}}$'.format(mu_yz_flx(comp_states, q_op, eps_test*1e3))))\n",
    "display(Latex(r'$\\mu_{{YZ}}^{{(SW)}}/2\\pi = {:.4f} \\, \\mathrm{{MHz}}$'.format(mu_yz_flx_sw(transm, flx, jc, eps_test*1e3))))\n",
    "display(Latex(r'$\\mu_{{YI}}/2\\pi = {:.4f} \\, \\mathrm{{MHz}}$'.format(mu_yi_flx(comp_states, q_op, eps_test*1e3))))\n",
    "display(Latex(r'$\\mu_{{ZY}}/2\\pi = {:.6f} \\, \\mathrm{{MHz}}$'.format(mu_zy_transm(comp_states, q_op, eps_test*1e3))))"
   ]
  },
  {
   "cell_type": "markdown",
   "metadata": {},
   "source": [
    "In what follows we take the phase of the drive to be $0$ and so we get a $ZY$ term. If we set it $\\pi/2$ we get a\n",
    "$ZX$ term and so we should simply make the substitution $Y \\mapsto X$. \n",
    "\n",
    "The aim of the cross-resonance gate is to realize the following unitary\n",
    "$$\n",
    "\\mathrm{CR}_{\\theta} = e^{-i \\frac{\\theta}{2} Y \\otimes Z } = \\cos\\biggl(\\frac{\\theta}{2} \\biggr) I -i \\sin\\biggl(\\frac{\\theta}{2} \\biggr) Y \\otimes Z\n",
    "$$\n",
    "\n",
    "In particular it is known that $\\mathrm{CR}_{-\\pi/2}$ is equivalent to a CNOT up to single-qubit gates."
   ]
  },
  {
   "cell_type": "code",
   "execution_count": 53,
   "metadata": {},
   "outputs": [],
   "source": [
    "def func_to_minimize(\n",
    "    pulse_time: list,\n",
    "    t_rise: float,\n",
    "    cr_coeff: float\n",
    ") -> float:\n",
    "    \"\"\"\n",
    "    Description\n",
    "    --------------------------------------------------------------\n",
    "    Computes the difference between the time integral \n",
    "    of the CR coefficient and the target phase \\pi/4.\n",
    "    \"\"\"\n",
    "    step = 1e-3\n",
    "    n_points = int(pulse_time[0]/step)\n",
    "    times = np.linspace(0, pulse_time[0], n_points)\n",
    "    pulse = gaussian_top(times, t_rise, pulse_time[0])\n",
    "    integral = scipy.integrate.simpson(2*np.pi*cr_coeff*pulse, times)\n",
    "    return np.abs(integral - np.pi/4)  \n",
    "    "
   ]
  },
  {
   "cell_type": "code",
   "execution_count": 55,
   "metadata": {},
   "outputs": [
    {
     "name": "stdout",
     "output_type": "stream",
     "text": [
      "      fun: 9.351297514115231e-12\n",
      " hess_inv: array([[988.96127015]])\n",
      "      jac: array([0.00472102])\n",
      "  message: 'Desired error not necessarily achieved due to precision loss.'\n",
      "     nfev: 102\n",
      "      nit: 1\n",
      "     njev: 45\n",
      "   status: 2\n",
      "  success: False\n",
      "        x: array([142.00188754])\n",
      "t_gate: 142.00188754287132 ns\n"
     ]
    }
   ],
   "source": [
    "eps = 0.5\n",
    "omega_flx, states_flx = flx.eig_states(4)\n",
    "op = coupled_sys[\"F\"].charge_op()\n",
    "freq_drive = transm.max_freq\n",
    "omega_drive = np.abs(get_mat_elem(op, coupled_sys.state(\"01\")[1], coupled_sys.state(\"11\")[1]))\n",
    "delta_drive = freq_drive - transm.max_freq\n",
    "rabi_period = 1/np.sqrt(omega_drive**2 + delta_drive**2)\n",
    "t_rise = 10.0 # [ns]\n",
    "\n",
    "# Here we can choose either to pass the numerical CR coefficient\n",
    "# or the one obtained from the Schrieffer-Wolff formula. As the SW formula\n",
    "# is approximate and does not include the effect of higher levels we find\n",
    "# that the numerical coefficient leads to more accurate gate times that\n",
    "# give higher fidelity.\n",
    "\n",
    "cr_coeff = np.abs(util_tf_cr.mu_yz_flx(comp_states, op, eps))\n",
    "\n",
    "t_gate_0 = [util_tf_cr.cr_gate_time(cr_coeff)]\n",
    "\n",
    "args_to_pass = (t_rise, cr_coeff) \n",
    "\n",
    "start = time.time()\n",
    "\n",
    "minimization_result = minimize(func_to_minimize, t_gate_0, args=args_to_pass)\n",
    "\n",
    "print(minimization_result)\n",
    "\n",
    "end = time.time()\n",
    "\n",
    "t_gate = minimization_result['x'][0] \n",
    "print(\"t_gate: {} ns\".format(t_gate))\n",
    "pts_per_drive_period = 10\n",
    "\n",
    "nb_points = int(t_gate*freq_drive*pts_per_drive_period)\n",
    "tlist = np.linspace(0, t_gate, nb_points)\n",
    "\n",
    "coupled_sys['F'].drives['cr_drive_f'].set_params(phase=0, time=tlist, rise_time=t_rise, pulse_time=t_gate,\n",
    "                                                 amp=eps, freq=freq_drive)\n"
   ]
  },
  {
   "cell_type": "markdown",
   "metadata": {},
   "source": [
    "We introduce the TomoEnv object. We also refine the absolute and relative tolerance of the qutip solver."
   ]
  },
  {
   "cell_type": "code",
   "execution_count": 56,
   "metadata": {},
   "outputs": [],
   "source": [
    "simu_opt = qtp.solver.Options()\n",
    "simu_opt.atol = 1e-14\n",
    "simu_opt.rtol = 1e-12\n",
    "\n",
    "# set with_noise to True to simulate the noisy case\n",
    "\n",
    "env_syst = pysqkit.tomography.TomoEnv(system=coupled_sys, time=2*np.pi*tlist, options=simu_opt, \n",
    "                                      with_noise=False, dressed_noise=False)"
   ]
  },
  {
   "cell_type": "markdown",
   "metadata": {},
   "source": [
    "The TomoEnv class can return the Hilbert-Schmidt representation of the quantum operation in an arbitrary Hilbert-Schmidt basis for a $d$-dimensional subspace, as long as this is a basis of diagonalizable operators. For instance the basis $|n \\rangle \\langle m|$, $n, m= 0, \\dots, d-1$ is not a diagonalizable basis and thus the method cannot be used. \n",
    "\n",
    "In what follows we are interested in obtaining a superoperator representation of a quantum operation in the computational subspace that we here define"
   ]
  },
  {
   "cell_type": "code",
   "execution_count": 57,
   "metadata": {},
   "outputs": [],
   "source": [
    "comp_states_list = []\n",
    "for key in comp_states.keys():\n",
    "    comp_states_list.append(comp_states[key])"
   ]
  },
  {
   "cell_type": "markdown",
   "metadata": {},
   "source": [
    "Notice that the choice of how to define the computational subspace is left to the user. In our case we take the \"dressed\" levels $|00 \\rangle, |01 \\rangle, |10 \\rangle, |11 \\rangle$ as explained in the paper."
   ]
  },
  {
   "cell_type": "code",
   "execution_count": 58,
   "metadata": {},
   "outputs": [
    {
     "name": "stdout",
     "output_type": "stream",
     "text": [
      "Computational time = 29.345671892166138 s\n"
     ]
    }
   ],
   "source": [
    "# We use the \"dressed\" Pauli basis, i.e., we get the Pauli transfer matrix\n",
    "\n",
    "n_process = 4\n",
    "\n",
    "my_hs_basis = pauli_by_index\n",
    "\n",
    "start = time.time()\n",
    "sup_op = env_syst.to_super(comp_states_list, my_hs_basis, n_process, speed_up=True)\n",
    "end = time.time()\n",
    "print(\"Computational time = \" + str(end - start) + ' s')"
   ]
  },
  {
   "cell_type": "markdown",
   "metadata": {},
   "source": [
    "Notice how the superoperator can be obtained for any system and its operations are completely system agnostic.\n",
    "\n",
    "We now use the previous superoperator to compute the process fidelity and average gate fidelity with respect to a $\\mathrm{CR}$ gate. First of all, we need to obtain the single-qubit $Z$ corrections (simulations are done in the Schrödinger picture without any rotating wave approximation). This can be done directly from the superoperator via the following function."
   ]
  },
  {
   "cell_type": "code",
   "execution_count": 59,
   "metadata": {},
   "outputs": [],
   "source": [
    "sq_corr = util_tf_cr.single_qubit_corrections(sup_op, my_hs_basis)\n",
    "sq_corr_sup = trf.kraus_to_super(sq_corr, my_hs_basis)\n",
    "total_sup_op = sq_corr_sup.dot(sup_op)"
   ]
  },
  {
   "cell_type": "markdown",
   "metadata": {},
   "source": [
    "We now compute the process fidelity. In order to do this we first need to obtain the superoperator representation of the $\\mathrm{CR}$ in our chose Hilbert-Schmidt basis. This can be done via the function qutip.util.transformations.kraus_to_super"
   ]
  },
  {
   "cell_type": "code",
   "execution_count": 60,
   "metadata": {},
   "outputs": [],
   "source": [
    "def cry(theta):\n",
    "    ide = np.identity(4)\n",
    "    yz = np.kron(np.array([[0, -1j], [1j, 0]]), np.array([[1, 0], [0, -1]]))\n",
    "    return np.cos(theta/2)*ide - 1j*np.sin(theta/2)*yz\n",
    "\n",
    "def crx(theta):\n",
    "    ide = np.identity(4)\n",
    "    zx = np.kron(np.array([[0, 1], [1, 0]]), np.array([[1, 0], [0, -1]]))\n",
    "    return np.cos(theta/2)*ide - 1j*np.sin(theta/2)*zx"
   ]
  },
  {
   "cell_type": "markdown",
   "metadata": {},
   "source": [
    "We can now compute the process fidelity"
   ]
  },
  {
   "cell_type": "code",
   "execution_count": 61,
   "metadata": {},
   "outputs": [
    {
     "data": {
      "text/latex": [
       "$F_{pro} = 0.96969$"
      ],
      "text/plain": [
       "<IPython.core.display.Latex object>"
      ]
     },
     "metadata": {},
     "output_type": "display_data"
    }
   ],
   "source": [
    "cr_super_target = trf.kraus_to_super(cry(-np.pi/2), my_hs_basis)\n",
    "f_pro = average_process_fidelity(cr_super_target, total_sup_op)\n",
    "display(Latex(r'$F_{{pro}} = {:.5f}$'.format(f_pro)))"
   ]
  },
  {
   "cell_type": "markdown",
   "metadata": {},
   "source": [
    "Notice that this is by choice not done within the TomoEnv class, since the TomoEnv class should be agnostic of which gate we want to implement. Since during the gate also an unwanted $Y$ rotations is implemented let us try to virtually correct it. In particular, we look for the $Y$ rotation on the transmon that maximized the fidelity."
   ]
  },
  {
   "cell_type": "code",
   "execution_count": 62,
   "metadata": {},
   "outputs": [],
   "source": [
    "def ry_t(theta):\n",
    "    rot_y = np.cos(theta/2)*np.identity(2) - 1j*np.sin(theta/2)*np.array([[0, -1j], [1j, 0]])\n",
    "    return np.kron(rot_y, np.identity(2))\n",
    "\n",
    "def ry_f(theta):\n",
    "    rot_y = np.cos(theta/2)*np.identity(2) - 1j*np.sin(theta/2)*np.array([[0, -1j], [1j, 0]])\n",
    "    return np.kron(np.identity(2), rot_y)"
   ]
  },
  {
   "cell_type": "markdown",
   "metadata": {},
   "source": [
    "We now look for the single-qubit $Y$ correction on the transmon that maximizes the fidelity."
   ]
  },
  {
   "cell_type": "code",
   "execution_count": 63,
   "metadata": {},
   "outputs": [
    {
     "data": {
      "text/latex": [
       "Maximum achievable fidelity after ideal $Y$ rotations = $0.9911178033037332$"
      ],
      "text/plain": [
       "<IPython.core.display.Latex object>"
      ]
     },
     "metadata": {},
     "output_type": "display_data"
    }
   ],
   "source": [
    "theta_list = list(np.linspace(0, 2*np.pi, 100))\n",
    "fid_list_ry = []\n",
    "for theta in theta_list:\n",
    "    rot_y_super = trf.kraus_to_super(ry_t(theta), my_hs_basis)\n",
    "    fid_list_ry.append(average_process_fidelity(cr_super_target, rot_y_super.dot(total_sup_op)))\n",
    "\n",
    "fid_ry = np.array(fid_list_ry)\n",
    "max_fid = np.max(fid_ry)\n",
    "max_index = np.argmax(fid_ry)\n",
    "sup_rot_y_opt = trf.kraus_to_super(ry_t(theta_list[max_index]), my_hs_basis)\n",
    "display(Latex(r\"Maximum achievable fidelity after ideal $Y$ rotations = ${}$\".format(max_fid)))"
   ]
  },
  {
   "cell_type": "markdown",
   "metadata": {},
   "source": [
    "The average leakage and seepage is computed within the TomoEnv class. This is because we just need to specify a subspace to determine them, similarly to the determination of the superoperator. We use Eq. 2 and 3 in Wood-Gambetta Phys. Rev. A 97, 032306 (2018) to calculate the average leakage and seepage respectively. "
   ]
  },
  {
   "cell_type": "code",
   "execution_count": 64,
   "metadata": {},
   "outputs": [
    {
     "data": {
      "text/latex": [
       "$L_1(\\mathcal{E} ) = 0.0000009$"
      ],
      "text/plain": [
       "<IPython.core.display.Latex object>"
      ]
     },
     "metadata": {},
     "output_type": "display_data"
    }
   ],
   "source": [
    "avg_leakage = env_syst.leakage(comp_states_list)\n",
    "display(Latex(r'$L_1(\\mathcal{{E}} ) = {:.7f}$'.format(avg_leakage)))"
   ]
  },
  {
   "cell_type": "markdown",
   "metadata": {},
   "source": [
    "We observe that leakage is sensitive to whether we have a smooth rise time or not..."
   ]
  },
  {
   "cell_type": "code",
   "execution_count": 65,
   "metadata": {},
   "outputs": [
    {
     "data": {
      "text/latex": [
       "$L_2(\\mathcal{E} ) = 0.0000003$"
      ],
      "text/plain": [
       "<IPython.core.display.Latex object>"
      ]
     },
     "metadata": {},
     "output_type": "display_data"
    }
   ],
   "source": [
    "avg_seepage = env_syst.seepage(comp_states_list)\n",
    "display(Latex(r'$L_2(\\mathcal{{E}} ) = {:.7f}$'.format(avg_seepage)))"
   ]
  },
  {
   "cell_type": "markdown",
   "metadata": {},
   "source": [
    "We can also check that, with the selected accuracy of the qutip solver, for unitary dynamics (set loss tangents equal to zero) we reproduce the relation between leakage and seepage $d_1 L_1(\\mathcal{E}) = d_2 L_2(\\mathcal{E})$ ($d_1=4, d_2 = 11$)"
   ]
  },
  {
   "cell_type": "code",
   "execution_count": 66,
   "metadata": {},
   "outputs": [
    {
     "data": {
      "text/latex": [
       "$d_1 L_1(\\mathcal{E} ) = 0.0000038$"
      ],
      "text/plain": [
       "<IPython.core.display.Latex object>"
      ]
     },
     "metadata": {},
     "output_type": "display_data"
    }
   ],
   "source": [
    "display(Latex(r'$d_1 L_1(\\mathcal{{E}} ) = {:.7f}$'.format(d_comp*avg_leakage)))"
   ]
  },
  {
   "cell_type": "code",
   "execution_count": 67,
   "metadata": {},
   "outputs": [
    {
     "data": {
      "text/latex": [
       "$d_2 L_2(\\mathcal{E} ) = 0.0000038$"
      ],
      "text/plain": [
       "<IPython.core.display.Latex object>"
      ]
     },
     "metadata": {},
     "output_type": "display_data"
    }
   ],
   "source": [
    "display(Latex(r'$d_2 L_2(\\mathcal{{E}} ) = {:.7f}$'.format(d_leak*avg_seepage)))"
   ]
  },
  {
   "cell_type": "markdown",
   "metadata": {},
   "source": [
    "Notice that $d_1 L_1 = d_2 L_2$ is only true in the noiseless case."
   ]
  },
  {
   "cell_type": "markdown",
   "metadata": {},
   "source": [
    "Finally, the average gate fidelity is"
   ]
  },
  {
   "cell_type": "code",
   "execution_count": 68,
   "metadata": {},
   "outputs": [
    {
     "data": {
      "text/latex": [
       "$F_{gate} = 0.99289$"
      ],
      "text/plain": [
       "<IPython.core.display.Latex object>"
      ]
     },
     "metadata": {},
     "output_type": "display_data"
    }
   ],
   "source": [
    "total_sup_op_ry = sup_rot_y_opt.dot(total_sup_op)\n",
    "f_gate = average_gate_fidelity(cr_super_target, total_sup_op_ry, avg_leakage)\n",
    "display(Latex(r'$F_{{gate}} = {:.5f}$'.format(f_gate)))\n"
   ]
  },
  {
   "cell_type": "code",
   "execution_count": null,
   "metadata": {},
   "outputs": [],
   "source": []
  }
 ],
 "metadata": {
  "kernelspec": {
   "display_name": "pysqkit-env",
   "language": "python",
   "name": "python3"
  },
  "language_info": {
   "codemirror_mode": {
    "name": "ipython",
    "version": 3
   },
   "file_extension": ".py",
   "mimetype": "text/x-python",
   "name": "python",
   "nbconvert_exporter": "python",
   "pygments_lexer": "ipython3",
   "version": "3.9.7"
  },
  "toc": {
   "base_numbering": 1,
   "nav_menu": {},
   "number_sections": true,
   "sideBar": true,
   "skip_h1_title": false,
   "title_cell": "Table of Contents",
   "title_sidebar": "Contents",
   "toc_cell": false,
   "toc_position": {
    "height": "calc(100% - 180px)",
    "left": "10px",
    "top": "150px",
    "width": "233.333px"
   },
   "toc_section_display": true,
   "toc_window_display": false
  },
  "widgets": {
   "application/vnd.jupyter.widget-state+json": {
    "state": {},
    "version_major": 2,
    "version_minor": 0
   }
  }
 },
 "nbformat": 4,
 "nbformat_minor": 4
}
